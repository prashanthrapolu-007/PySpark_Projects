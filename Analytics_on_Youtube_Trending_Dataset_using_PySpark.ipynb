{
 "cells": [
  {
   "cell_type": "markdown",
   "metadata": {},
   "source": [
    "### This project aims at exploring, cleaning and deriving the following analytics from the Youtube Trending Dataset\n",
    "### 1. Most popular Channels<br> 2. Most Viewed Videos <br> 3. Most popular Videos <br> 4. Most liked Videos<br> 5. Most disliked Videos\n",
    "The dataset can be downloaded from Kaggle(https://www.kaggle.com/datasnaek/youtube-new?select=CAvideos.csv)"
   ]
  },
  {
   "cell_type": "markdown",
   "metadata": {},
   "source": [
    "Various steps involved in this project\n",
    "1. Setting up Spark session\n",
    "2. Look at the data and number of columns\n",
    "3. Explore and Clean Data\n",
    "    i.   Identified duplicates --> dropped duplicates present in the data\n",
    "    ii.  Analyzed all the columns and converted datatype to perform analytics\n",
    "    iii. Handled Null Values\n",
    "4. Generate Analytics    "
   ]
  },
  {
   "cell_type": "markdown",
   "metadata": {
    "heading_collapsed": true
   },
   "source": [
    "#### Setting up Spark Session"
   ]
  },
  {
   "cell_type": "code",
   "execution_count": 1,
   "metadata": {
    "hidden": true
   },
   "outputs": [],
   "source": [
    "from pyspark import SparkConf, SparkContext\n",
    "from pyspark.sql import SparkSession\n",
    "from pyspark.sql import functions as F\n",
    "from pyspark.sql import types as T"
   ]
  },
  {
   "cell_type": "code",
   "execution_count": 2,
   "metadata": {
    "hidden": true
   },
   "outputs": [],
   "source": [
    "configure = SparkConf().setAppName('YoutubeTrending').setMaster('local')"
   ]
  },
  {
   "cell_type": "code",
   "execution_count": 3,
   "metadata": {
    "hidden": true
   },
   "outputs": [],
   "source": [
    "sc = SparkContext(conf = configure)"
   ]
  },
  {
   "cell_type": "code",
   "execution_count": 4,
   "metadata": {
    "hidden": true
   },
   "outputs": [],
   "source": [
    "spark = SparkSession.builder.appName('YoutubeTrending').getOrCreate()"
   ]
  },
  {
   "cell_type": "code",
   "execution_count": 6,
   "metadata": {
    "hidden": true
   },
   "outputs": [
    {
     "data": {
      "text/plain": [
       "[('spark.master', 'local'),\n",
       " ('spark.app.name', 'YoutubeTrending'),\n",
       " ('spark.driver.host', '10.225.144.245'),\n",
       " ('spark.driver.port', '46263'),\n",
       " ('spark.rdd.compress', 'True'),\n",
       " ('spark.serializer.objectStreamReset', '100'),\n",
       " ('spark.submit.pyFiles', ''),\n",
       " ('spark.executor.id', 'driver'),\n",
       " ('spark.submit.deployMode', 'client'),\n",
       " ('spark.ui.showConsoleProgress', 'true'),\n",
       " ('spark.app.id', 'local-1598768534213')]"
      ]
     },
     "execution_count": 6,
     "metadata": {},
     "output_type": "execute_result"
    }
   ],
   "source": [
    "spark.sparkContext.getConf().getAll()"
   ]
  },
  {
   "cell_type": "markdown",
   "metadata": {
    "heading_collapsed": true
   },
   "source": [
    "#### Reading Data"
   ]
  },
  {
   "cell_type": "code",
   "execution_count": 7,
   "metadata": {
    "hidden": true
   },
   "outputs": [],
   "source": [
    "file_path = 'Data/Youtube Dataset/CAvideos.csv'\n",
    "infer_schema = 'true'\n",
    "file_type = 'csv'\n",
    "include_header = 'true'\n",
    "delimiter = ','"
   ]
  },
  {
   "cell_type": "code",
   "execution_count": 8,
   "metadata": {
    "hidden": true
   },
   "outputs": [],
   "source": [
    "df = spark.read.format(file_type) \\\n",
    "        .option(\"InferSchema\", infer_schema) \\\n",
    "        .option(\"header\", include_header) \\\n",
    "        .option(\"delimiter\", delimiter) \\\n",
    "        .load(file_path)\n",
    "        "
   ]
  },
  {
   "cell_type": "code",
   "execution_count": 9,
   "metadata": {
    "hidden": true
   },
   "outputs": [
    {
     "name": "stdout",
     "output_type": "stream",
     "text": [
      "+-----------+-------------+--------------------+-------------+-----------+--------------------+--------------------+--------+-------+--------+-------------+--------------------+-----------------+----------------+----------------------+--------------------+\n",
      "|   video_id|trending_date|               title|channel_title|category_id|        publish_time|                tags|   views|  likes|dislikes|comment_count|      thumbnail_link|comments_disabled|ratings_disabled|video_error_or_removed|         description|\n",
      "+-----------+-------------+--------------------+-------------+-----------+--------------------+--------------------+--------+-------+--------+-------------+--------------------+-----------------+----------------+----------------------+--------------------+\n",
      "|n1WpP7iowLc|     17.14.11|Eminem - Walk On ...|   EminemVEVO|         10|2017-11-10T17:00:...|\"Eminem\"|\"Walk\"|\"...|17158579| 787425|   43420|       125882|https://i.ytimg.c...|            False|           False|                 False|Eminem's new trac...|\n",
      "|0dBIkQ4Mz1M|     17.14.11|PLUSH - Bad Unbox...|    iDubbbzTV|         23|2017-11-13T17:00:...|\"plush\"|\"bad unbo...| 1014651| 127794|    1688|        13030|https://i.ytimg.c...|            False|           False|                 False|STill got a lot o...|\n",
      "|5qpjK5DgCt4|     17.14.11|Racist Superman |...| Rudy Mancuso|         23|2017-11-12T19:05:...|\"racist superman\"...| 3191434| 146035|    5339|         8181|https://i.ytimg.c...|            False|           False|                 False|WATCH MY PREVIOUS...|\n",
      "|d380meD0W0M|     17.14.11|I Dare You: GOING...|     nigahiga|         24|2017-11-12T18:01:...|\"ryan\"|\"higa\"|\"hi...| 2095828| 132239|    1989|        17518|https://i.ytimg.c...|            False|           False|                 False|I know it's been ...|\n",
      "|2Vv-BfVoq4g|     17.14.11|Ed Sheeran - Perf...|   Ed Sheeran|         10|2017-11-09T11:04:...|\"edsheeran\"|\"ed s...|33523622|1634130|   21082|        85067|https://i.ytimg.c...|            False|           False|                 False|🎧: https://ad.gt...|\n",
      "+-----------+-------------+--------------------+-------------+-----------+--------------------+--------------------+--------+-------+--------+-------------+--------------------+-----------------+----------------+----------------------+--------------------+\n",
      "only showing top 5 rows\n",
      "\n"
     ]
    }
   ],
   "source": [
    "df.show(5)"
   ]
  },
  {
   "cell_type": "code",
   "execution_count": 10,
   "metadata": {
    "hidden": true
   },
   "outputs": [
    {
     "name": "stdout",
     "output_type": "stream",
     "text": [
      "root\n",
      " |-- video_id: string (nullable = true)\n",
      " |-- trending_date: string (nullable = true)\n",
      " |-- title: string (nullable = true)\n",
      " |-- channel_title: string (nullable = true)\n",
      " |-- category_id: string (nullable = true)\n",
      " |-- publish_time: string (nullable = true)\n",
      " |-- tags: string (nullable = true)\n",
      " |-- views: string (nullable = true)\n",
      " |-- likes: string (nullable = true)\n",
      " |-- dislikes: string (nullable = true)\n",
      " |-- comment_count: string (nullable = true)\n",
      " |-- thumbnail_link: string (nullable = true)\n",
      " |-- comments_disabled: string (nullable = true)\n",
      " |-- ratings_disabled: string (nullable = true)\n",
      " |-- video_error_or_removed: string (nullable = true)\n",
      " |-- description: string (nullable = true)\n",
      "\n"
     ]
    }
   ],
   "source": [
    "df.printSchema()"
   ]
  },
  {
   "cell_type": "code",
   "execution_count": 11,
   "metadata": {
    "hidden": true
   },
   "outputs": [
    {
     "data": {
      "text/plain": [
       "45560"
      ]
     },
     "execution_count": 11,
     "metadata": {},
     "output_type": "execute_result"
    }
   ],
   "source": [
    "df.count()"
   ]
  },
  {
   "cell_type": "code",
   "execution_count": 12,
   "metadata": {
    "hidden": true
   },
   "outputs": [
    {
     "data": {
      "text/plain": [
       "16"
      ]
     },
     "execution_count": 12,
     "metadata": {},
     "output_type": "execute_result"
    }
   ],
   "source": [
    "len(df.schema.names)"
   ]
  },
  {
   "cell_type": "markdown",
   "metadata": {
    "hidden": true
   },
   "source": [
    "It can be observed that there are a total of 45560 rows, 16 columns in the given dataset. \n",
    "There seems to be null values in all the columns. We will have to fill null values with appropriate replacements"
   ]
  },
  {
   "cell_type": "markdown",
   "metadata": {
    "heading_collapsed": true
   },
   "source": [
    "#### Data Exploration and Data Cleaning"
   ]
  },
  {
   "cell_type": "code",
   "execution_count": 13,
   "metadata": {
    "collapsed": true,
    "hidden": true
   },
   "outputs": [
    {
     "name": "stdout",
     "output_type": "stream",
     "text": [
      "+-------+----------------------------+\n",
      "|summary|                    video_id|\n",
      "+-------+----------------------------+\n",
      "|  count|                       45560|\n",
      "|   mean|                        null|\n",
      "| stddev|                        null|\n",
      "|    min|                      #DRAMA|\n",
      "|    max|◎追蹤【三立新聞網Instagra...|\n",
      "+-------+----------------------------+\n",
      "\n",
      "+-------+--------------------+\n",
      "|summary|       trending_date|\n",
      "+-------+--------------------+\n",
      "|  count|               41537|\n",
      "|   mean|              1225.2|\n",
      "| stddev|  1085.5861089752393|\n",
      "|    min| 1992 and 1994 Ga...|\n",
      "|    max|” “Gorillas in th...|\n",
      "+-------+--------------------+\n",
      "\n",
      "+-------+--------------------+\n",
      "|summary|               title|\n",
      "+-------+--------------------+\n",
      "|  count|               41383|\n",
      "|   mean|               264.0|\n",
      "| stddev|  213.27447104611466|\n",
      "|    min|                  36|\n",
      "|    max|🚨Active Shooter ...|\n",
      "+-------+--------------------+\n",
      "\n",
      "+-------+-------------+\n",
      "|summary|channel_title|\n",
      "+-------+-------------+\n",
      "|  count|        41321|\n",
      "|   mean|         null|\n",
      "| stddev|         null|\n",
      "|    min|    Ali Abbas|\n",
      "|    max|     활력소TV|\n",
      "+-------+-------------+\n",
      "\n",
      "+-------+--------------------+\n",
      "|summary|         category_id|\n",
      "+-------+--------------------+\n",
      "|  count|               41195|\n",
      "|   mean|  20.796585294261533|\n",
      "| stddev|    6.77818544547125|\n",
      "|    min| 33. Guests were ...|\n",
      "|    max|Yashma Gill as Er...|\n",
      "+-------+--------------------+\n",
      "\n",
      "+-------+--------------------+\n",
      "|summary|        publish_time|\n",
      "+-------+--------------------+\n",
      "|  count|               41142|\n",
      "|   mean|                null|\n",
      "| stddev|                null|\n",
      "|    min|          Ali Ansari|\n",
      "|    max|Ali Ansari as Aft...|\n",
      "+-------+--------------------+\n",
      "\n",
      "+-------+-------------+\n",
      "|summary|         tags|\n",
      "+-------+-------------+\n",
      "|  count|        40980|\n",
      "|   mean|         null|\n",
      "| stddev|         null|\n",
      "|    min| Areej Fatima|\n",
      "|    max|   이국종교수|\n",
      "+-------+-------------+\n",
      "\n",
      "+-------+--------------------+\n",
      "|summary|               views|\n",
      "+-------+--------------------+\n",
      "|  count|               40946|\n",
      "|   mean|  1147035.9107898534|\n",
      "| stddev|   3390913.022309033|\n",
      "|    min|     Mahjabeen Habib|\n",
      "|    max|Mariyam Mirza as ...|\n",
      "+-------+--------------------+\n",
      "\n",
      "+-------+--------------------+\n",
      "|summary|               likes|\n",
      "+-------+--------------------+\n",
      "|  count|               40938|\n",
      "|   mean|   39582.68824148137|\n",
      "| stddev|  132689.53073880932|\n",
      "|    min|       Abdullah Ejaz|\n",
      "|    max|Shajeer Uddin as ...|\n",
      "+-------+--------------------+\n",
      "\n",
      "+-------+--------------------+\n",
      "|summary|            dislikes|\n",
      "+-------+--------------------+\n",
      "|  count|               40938|\n",
      "|   mean|  2009.1954453168953|\n",
      "| stddev|  19008.369790988625|\n",
      "|    min|    Barjees Farooqui|\n",
      "|    max|Barjees Farooqui ...|\n",
      "+-------+--------------------+\n",
      "\n",
      "+-------+--------------------+\n",
      "|summary|       comment_count|\n",
      "+-------+--------------------+\n",
      "|  count|               40935|\n",
      "|   mean|   5042.974707076637|\n",
      "| stddev|  21579.020654126936|\n",
      "|    min| Carole came too....|\n",
      "|    max|Mabsira Khan as S...|\n",
      "+-------+--------------------+\n",
      "\n",
      "+-------+--------------------+\n",
      "|summary|      thumbnail_link|\n",
      "+-------+--------------------+\n",
      "|  count|               40935|\n",
      "|   mean|                null|\n",
      "| stddev|                null|\n",
      "|    min|         Mizna Waqas|\n",
      "|    max|https://i.ytimg.c...|\n",
      "+-------+--------------------+\n",
      "\n",
      "+-------+--------------------+\n",
      "|summary|   comments_disabled|\n",
      "+-------+--------------------+\n",
      "|  count|               40933|\n",
      "|   mean|                null|\n",
      "| stddev|                null|\n",
      "|    min|           Fida Daar|\n",
      "|    max|” she added.“She ...|\n",
      "+-------+--------------------+\n",
      "\n",
      "+-------+----------------+\n",
      "|summary|ratings_disabled|\n",
      "+-------+----------------+\n",
      "|  count|           40905|\n",
      "|   mean|            null|\n",
      "| stddev|            null|\n",
      "|    min|    Arsalan Raja|\n",
      "|    max|            True|\n",
      "+-------+----------------+\n",
      "\n",
      "+-------+----------------------+\n",
      "|summary|video_error_or_removed|\n",
      "+-------+----------------------+\n",
      "|  count|                 40894|\n",
      "|   mean|                  null|\n",
      "| stddev|                  null|\n",
      "|    min|              Ray Khan|\n",
      "|    max|                  True|\n",
      "+-------+----------------------+\n",
      "\n",
      "+-------+--------------------+\n",
      "|summary|         description|\n",
      "+-------+--------------------+\n",
      "|  count|               39598|\n",
      "|   mean|                47.0|\n",
      "| stddev|                 NaN|\n",
      "|    min|                  47|\n",
      "|    max|🚨 NEW MERCH! htt...|\n",
      "+-------+--------------------+\n",
      "\n"
     ]
    }
   ],
   "source": [
    "for col in df.schema.names:\n",
    "    df.describe(col).show()"
   ]
  },
  {
   "cell_type": "code",
   "execution_count": 14,
   "metadata": {
    "hidden": true
   },
   "outputs": [],
   "source": [
    "# Drop duplicates from the dataset\n",
    "if df.drop_duplicates().count() > 0:\n",
    "    df = df.drop_duplicates()"
   ]
  },
  {
   "cell_type": "code",
   "execution_count": 15,
   "metadata": {
    "hidden": true
   },
   "outputs": [
    {
     "data": {
      "text/plain": [
       "41686"
      ]
     },
     "execution_count": 15,
     "metadata": {},
     "output_type": "execute_result"
    }
   ],
   "source": [
    "df.count()"
   ]
  },
  {
   "cell_type": "markdown",
   "metadata": {
    "hidden": true
   },
   "source": [
    "##### Converting Datatypes for mathematical operations"
   ]
  },
  {
   "cell_type": "code",
   "execution_count": 16,
   "metadata": {
    "hidden": true
   },
   "outputs": [],
   "source": [
    "# [x.views for x in df.select('views').distinct().collect()]"
   ]
  },
  {
   "cell_type": "code",
   "execution_count": 17,
   "metadata": {
    "hidden": true
   },
   "outputs": [],
   "source": [
    "# [x.comment_count for x in df.select('comment_count').distinct().collect()]"
   ]
  },
  {
   "cell_type": "code",
   "execution_count": 18,
   "metadata": {
    "hidden": true
   },
   "outputs": [],
   "source": [
    "# [x.likes for x in df.select('likes').distinct().collect()]"
   ]
  },
  {
   "cell_type": "code",
   "execution_count": 19,
   "metadata": {
    "hidden": true
   },
   "outputs": [],
   "source": [
    "# [x.dislikes for x in df.select('dislikes').distinct().collect()]"
   ]
  },
  {
   "cell_type": "code",
   "execution_count": 20,
   "metadata": {
    "hidden": true
   },
   "outputs": [],
   "source": [
    "# for col in df.schema.names:\n",
    "#     print(col)\n",
    "#     print()\n",
    "#     print([x[col] for x in df.select(col).distinct().collect()])\n",
    "#     print()"
   ]
  },
  {
   "cell_type": "code",
   "execution_count": 21,
   "metadata": {
    "hidden": true
   },
   "outputs": [],
   "source": [
    "df = df.withColumn('views', df.views.cast(T.IntegerType()))\n",
    "df = df.withColumn('dislikes', df.dislikes.cast(T.IntegerType()))\n",
    "df = df.withColumn('likes', df.likes.cast(T.IntegerType()))\n",
    "df = df.withColumn('comment_count', df.comment_count.cast(T.IntegerType()))"
   ]
  },
  {
   "cell_type": "code",
   "execution_count": 22,
   "metadata": {
    "hidden": true
   },
   "outputs": [
    {
     "name": "stdout",
     "output_type": "stream",
     "text": [
      "root\n",
      " |-- video_id: string (nullable = true)\n",
      " |-- trending_date: string (nullable = true)\n",
      " |-- title: string (nullable = true)\n",
      " |-- channel_title: string (nullable = true)\n",
      " |-- category_id: string (nullable = true)\n",
      " |-- publish_time: string (nullable = true)\n",
      " |-- tags: string (nullable = true)\n",
      " |-- views: integer (nullable = true)\n",
      " |-- likes: integer (nullable = true)\n",
      " |-- dislikes: integer (nullable = true)\n",
      " |-- comment_count: integer (nullable = true)\n",
      " |-- thumbnail_link: string (nullable = true)\n",
      " |-- comments_disabled: string (nullable = true)\n",
      " |-- ratings_disabled: string (nullable = true)\n",
      " |-- video_error_or_removed: string (nullable = true)\n",
      " |-- description: string (nullable = true)\n",
      "\n"
     ]
    }
   ],
   "source": [
    "df.printSchema()"
   ]
  },
  {
   "cell_type": "markdown",
   "metadata": {
    "hidden": true
   },
   "source": [
    "Thus, we have looked for any values with non-descrepancies and then converted the datatypes to integertype"
   ]
  },
  {
   "cell_type": "markdown",
   "metadata": {
    "hidden": true
   },
   "source": [
    "##### Handling Null Values"
   ]
  },
  {
   "cell_type": "code",
   "execution_count": 24,
   "metadata": {
    "collapsed": true,
    "hidden": true
   },
   "outputs": [
    {
     "name": "stdout",
     "output_type": "stream",
     "text": [
      "Column | Number_of_Null_Values\n",
      "video_id | 0\n",
      "trending_date | 577\n",
      "title | 616\n",
      "channel_title | 639\n",
      "category_id | 678\n",
      "publish_time | 699\n",
      "tags | 777\n",
      "views | 805\n",
      "likes | 805\n",
      "dislikes | 805\n",
      "comment_count | 805\n",
      "thumbnail_link | 792\n",
      "comments_disabled | 794\n",
      "ratings_disabled | 796\n",
      "video_error_or_removed | 799\n",
      "description | 2095\n"
     ]
    }
   ],
   "source": [
    "print('Column', '|', 'Number_of_Null_Values')\n",
    "for col in df.schema.names:    \n",
    "    print(col, '|', df.filter((df[col] == \"\") | df[col].isNull() | F.isnan(df[col])).count())"
   ]
  },
  {
   "cell_type": "code",
   "execution_count": 25,
   "metadata": {
    "hidden": true
   },
   "outputs": [
    {
     "data": {
      "text/plain": [
       "41686"
      ]
     },
     "execution_count": 25,
     "metadata": {},
     "output_type": "execute_result"
    }
   ],
   "source": [
    "df = df.filter((df['video_id'] != \"\") | df['video_id'].isNotNull())\n",
    "df.count()"
   ]
  },
  {
   "cell_type": "code",
   "execution_count": 26,
   "metadata": {
    "hidden": true
   },
   "outputs": [
    {
     "data": {
      "text/plain": [
       "40881"
      ]
     },
     "execution_count": 26,
     "metadata": {},
     "output_type": "execute_result"
    }
   ],
   "source": [
    "df = df.filter((df['likes'] != \"\") | df['likes'].isNotNull())\n",
    "df.count()"
   ]
  },
  {
   "cell_type": "code",
   "execution_count": 27,
   "metadata": {
    "hidden": true
   },
   "outputs": [
    {
     "data": {
      "text/plain": [
       "40881"
      ]
     },
     "execution_count": 27,
     "metadata": {},
     "output_type": "execute_result"
    }
   ],
   "source": [
    "df = df.filter((df['dislikes'] != \"\") | df['dislikes'].isNotNull())\n",
    "df.count()"
   ]
  },
  {
   "cell_type": "code",
   "execution_count": 28,
   "metadata": {
    "hidden": true
   },
   "outputs": [
    {
     "data": {
      "text/plain": [
       "40881"
      ]
     },
     "execution_count": 28,
     "metadata": {},
     "output_type": "execute_result"
    }
   ],
   "source": [
    "df = df.filter((df['views'] != \"\") | df['views'].isNotNull())\n",
    "df.count()"
   ]
  },
  {
   "cell_type": "code",
   "execution_count": 29,
   "metadata": {
    "hidden": true
   },
   "outputs": [
    {
     "data": {
      "text/plain": [
       "40881"
      ]
     },
     "execution_count": 29,
     "metadata": {},
     "output_type": "execute_result"
    }
   ],
   "source": [
    "df = df.filter((df['title'] != \"\") | df['title'].isNotNull())\n",
    "df.count()"
   ]
  },
  {
   "cell_type": "code",
   "execution_count": 30,
   "metadata": {
    "hidden": true
   },
   "outputs": [
    {
     "data": {
      "text/plain": [
       "40881"
      ]
     },
     "execution_count": 30,
     "metadata": {},
     "output_type": "execute_result"
    }
   ],
   "source": [
    "df = df.filter((df['comment_count'] != \"\") | df['comment_count'].isNotNull())\n",
    "df.count()"
   ]
  },
  {
   "cell_type": "markdown",
   "metadata": {
    "hidden": true
   },
   "source": [
    "Thus, we have identified all the null values and filtered our dataset for the columns having null values"
   ]
  },
  {
   "cell_type": "markdown",
   "metadata": {
    "heading_collapsed": true
   },
   "source": [
    "#### Analytics"
   ]
  },
  {
   "cell_type": "markdown",
   "metadata": {
    "hidden": true
   },
   "source": [
    "##### Most liked Videos"
   ]
  },
  {
   "cell_type": "code",
   "execution_count": 60,
   "metadata": {
    "hidden": true
   },
   "outputs": [],
   "source": [
    "most_liked_videos = df\\\n",
    ".groupBy('title')\\\n",
    ".agg(F.sum('likes'))\\\n",
    ".withColumnRenamed(\"sum(likes)\", \"total_num_likes\")\\\n",
    ".sort(F.desc(\"total_num_likes\"))"
   ]
  },
  {
   "cell_type": "code",
   "execution_count": 61,
   "metadata": {
    "hidden": true
   },
   "outputs": [
    {
     "name": "stdout",
     "output_type": "stream",
     "text": [
      "+----------------------------------------------------------+---------------+\n",
      "|title                                                     |total_num_likes|\n",
      "+----------------------------------------------------------+---------------+\n",
      "|BTS (방탄소년단) 'FAKE LOVE' Official MV                  |23078610       |\n",
      "|Marvel Studios' Avengers: Infinity War Official Trailer   |18929848       |\n",
      "|YouTube Rewind: The Shape of 2017 | #YouTubeRewind        |16687951       |\n",
      "|Childish Gambino - This Is America (Official Video)       |14593916       |\n",
      "|Drake - God’s Plan                                        |12164958       |\n",
      "|Maroon 5 - Girls Like You ft. Cardi B                     |9820458        |\n",
      "|Ariana Grande - No Tears Left To Cry                      |9696468        |\n",
      "|Marvel Studios' Avengers: Infinity War - Official Trailer |9466506        |\n",
      "|BTS (방탄소년단) 'MIC Drop (Steve Aoki Remix)' Official MV|9373576        |\n",
      "|Taylor Swift - End Game ft. Ed Sheeran, Future            |9282504        |\n",
      "+----------------------------------------------------------+---------------+\n",
      "only showing top 10 rows\n",
      "\n"
     ]
    }
   ],
   "source": [
    "most_liked_videos.show(10, truncate=False)"
   ]
  },
  {
   "cell_type": "markdown",
   "metadata": {
    "hidden": true
   },
   "source": [
    "##### Most Popular Videos"
   ]
  },
  {
   "cell_type": "code",
   "execution_count": 78,
   "metadata": {
    "hidden": true
   },
   "outputs": [],
   "source": [
    "most_popular_videos = df \\\n",
    ".groupBy('title')\\\n",
    ".agg(F.sum('comment_count'))\\\n",
    ".withColumnRenamed(\"sum(comment_count)\", \"total_comments\")\\\n",
    ".sort(F.desc(\"total_comments\"))"
   ]
  },
  {
   "cell_type": "code",
   "execution_count": 79,
   "metadata": {
    "hidden": true
   },
   "outputs": [
    {
     "name": "stdout",
     "output_type": "stream",
     "text": [
      "+---------------------------------------------------------------------+--------------+\n",
      "|title                                                                |total_comments|\n",
      "+---------------------------------------------------------------------+--------------+\n",
      "|YouTube Rewind: The Shape of 2017 | #YouTubeRewind                   |5087713       |\n",
      "|BTS (방탄소년단) 'FAKE LOVE' Official MV                             |4838370       |\n",
      "|Suicide: Be Here Tomorrow.                                           |2768628       |\n",
      "|Marvel Studios' Avengers: Infinity War Official Trailer              |2556491       |\n",
      "|BTS (방탄소년단) 'MIC Drop (Steve Aoki Remix)' Official MV           |1894345       |\n",
      "|Childish Gambino - This Is America (Official Video)                  |1545142       |\n",
      "|we broke up                                                          |1404418       |\n",
      "|Marvel Studios' Avengers: Infinity War - Official Trailer            |1190170       |\n",
      "|CHẠY NGAY ĐI | RUN NOW | SƠN TÙNG M-TP | Official Music Video        |1052106       |\n",
      "|BTS (방탄소년단) LOVE YOURSELF 轉 Tear 'Singularity' Comeback Trailer|952442        |\n",
      "+---------------------------------------------------------------------+--------------+\n",
      "only showing top 10 rows\n",
      "\n"
     ]
    }
   ],
   "source": [
    "most_popular_videos.show(10, truncate=False)"
   ]
  },
  {
   "cell_type": "markdown",
   "metadata": {
    "hidden": true
   },
   "source": [
    "##### Most disliked videos"
   ]
  },
  {
   "cell_type": "code",
   "execution_count": 75,
   "metadata": {
    "hidden": true
   },
   "outputs": [],
   "source": [
    "most_disliked_videos = df\\\n",
    ".groupBy('title')\\\n",
    ".agg(F.sum('dislikes'))\\\n",
    ".withColumnRenamed(\"sum(dislikes)\", \"tot_dislikes\")\\\n",
    ".withColumnRenamed(\"title\", \"Title\")\\\n",
    ".sort(F.desc(\"tot_dislikes\"))"
   ]
  },
  {
   "cell_type": "code",
   "execution_count": 76,
   "metadata": {
    "hidden": true
   },
   "outputs": [
    {
     "name": "stdout",
     "output_type": "stream",
     "text": [
      "+---------------------------------------------------------------------------------------------------+------------+\n",
      "|Title                                                                                              |tot_dislikes|\n",
      "+---------------------------------------------------------------------------------------------------+------------+\n",
      "|YouTube Rewind: The Shape of 2017 | #YouTubeRewind                                                 |8468160     |\n",
      "|Jake Paul - It's Everyday Bro (Remix) [feat. Gucci Mane]                                           |2117354     |\n",
      "|Suicide: Be Here Tomorrow.                                                                         |1777418     |\n",
      "|Fergie Performs The U.S. National Anthem / 2018 NBA All-Star Game                                  |818658      |\n",
      "|Childish Gambino - This Is America (Official Video)                                                |689948      |\n",
      "|BTS (방탄소년단) 'FAKE LOVE' Official MV                                                           |655599      |\n",
      "|Lil Pump - ESSKEETIT (Official Music Video)                                                        |608054      |\n",
      "|Logan Paul - SANTA DISS TRACK (Official Music Video)                                               |566683      |\n",
      "|Race 3 | Official Trailer | Salman Khan | Remo Dsouza | Releasing on 15th June 2018 | #Race3ThisEID|547142      |\n",
      "|Taylor Swift - End Game ft. Ed Sheeran, Future                                                     |493357      |\n",
      "+---------------------------------------------------------------------------------------------------+------------+\n",
      "only showing top 10 rows\n",
      "\n"
     ]
    }
   ],
   "source": [
    "most_disliked_videos.show(10, truncate=False)"
   ]
  },
  {
   "cell_type": "markdown",
   "metadata": {
    "hidden": true
   },
   "source": [
    "##### Most viewed videos"
   ]
  },
  {
   "cell_type": "code",
   "execution_count": 81,
   "metadata": {
    "hidden": true
   },
   "outputs": [],
   "source": [
    "most_viewed_videos = df\\\n",
    ".groupBy('title')\\\n",
    ".agg(F.sum('views'))\\\n",
    ".withColumnRenamed('sum(views)', 'total_views')\\\n",
    ".withColumnRenamed('title', 'Title')\\\n",
    ".sort(F.desc('total_views'))"
   ]
  },
  {
   "cell_type": "code",
   "execution_count": 82,
   "metadata": {
    "hidden": true
   },
   "outputs": [
    {
     "name": "stdout",
     "output_type": "stream",
     "text": [
      "+---------------------------------------------------------+-----------+\n",
      "|Title                                                    |total_views|\n",
      "+---------------------------------------------------------+-----------+\n",
      "|YouTube Rewind: The Shape of 2017 | #YouTubeRewind       |631428335  |\n",
      "|Marvel Studios' Avengers: Infinity War Official Trailer  |577553186  |\n",
      "|Childish Gambino - This Is America (Official Video)      |411775069  |\n",
      "|BTS (방탄소년단) 'FAKE LOVE' Official MV                 |321743622  |\n",
      "|VENOM - Official Trailer (HD)                            |268913813  |\n",
      "|Marvel Studios' Avengers: Infinity War - Official Trailer|260624189  |\n",
      "|To Our Daughter                                          |242252692  |\n",
      "|Luis Fonsi, Demi Lovato - Échame La Culpa                |191071336  |\n",
      "|Taylor Swift - Delicate                                  |191059970  |\n",
      "|Drake - God’s Plan                                       |190183754  |\n",
      "+---------------------------------------------------------+-----------+\n",
      "only showing top 10 rows\n",
      "\n"
     ]
    }
   ],
   "source": [
    "most_viewed_videos.show(10, truncate=False)"
   ]
  },
  {
   "cell_type": "markdown",
   "metadata": {
    "hidden": true
   },
   "source": [
    "##### Most popular Channels"
   ]
  },
  {
   "cell_type": "code",
   "execution_count": 87,
   "metadata": {
    "hidden": true
   },
   "outputs": [],
   "source": [
    "most_trending_channels = df\\\n",
    ".groupBy('channel_title')\\\n",
    ".agg(F.sum('views'))\\\n",
    ".withColumnRenamed('sum(views)', 'total_views')\\\n",
    ".withColumnRenamed('channel_title', 'Channel')\\\n",
    ".sort(F.desc('total_views'))"
   ]
  },
  {
   "cell_type": "code",
   "execution_count": 88,
   "metadata": {
    "hidden": true
   },
   "outputs": [
    {
     "name": "stdout",
     "output_type": "stream",
     "text": [
      "+---------------------------+-----------+\n",
      "|Channel                    |total_views|\n",
      "+---------------------------+-----------+\n",
      "|Marvel Entertainment       |1011420205 |\n",
      "|T-Series                   |799114025  |\n",
      "|Dude Perfect               |729916338  |\n",
      "|YouTube Spotlight          |635976769  |\n",
      "|ibighit                    |511567918  |\n",
      "|PewDiePie                  |461700524  |\n",
      "|Sony Pictures Entertainment|451188760  |\n",
      "|Speed Records              |426604974  |\n",
      "|20th Century Fox           |419577035  |\n",
      "|ChildishGambinoVEVO        |411775069  |\n",
      "+---------------------------+-----------+\n",
      "only showing top 10 rows\n",
      "\n"
     ]
    }
   ],
   "source": [
    "most_trending_channels.show(10, truncate=False)"
   ]
  }
 ],
 "metadata": {
  "kernelspec": {
   "display_name": "Python 3",
   "language": "python",
   "name": "python3"
  },
  "language_info": {
   "codemirror_mode": {
    "name": "ipython",
    "version": 3
   },
   "file_extension": ".py",
   "mimetype": "text/x-python",
   "name": "python",
   "nbconvert_exporter": "python",
   "pygments_lexer": "ipython3",
   "version": "3.8.3"
  }
 },
 "nbformat": 4,
 "nbformat_minor": 4
}
